{
 "cells": [
  {
   "cell_type": "code",
   "execution_count": 1,
   "metadata": {},
   "outputs": [
    {
     "name": "stdout",
     "output_type": "stream",
     "text": [
      "Ryan McCormick\n",
      "Citi\n",
      "4400 Vestal Parkway E\n",
      "Binghamton, NY 13902\n",
      "\n",
      "Ryan McCormick\n",
      "4400 Vestal Parkway E\n",
      "Binghamton, NY 13902\n"
     ]
    }
   ],
   "source": [
    "# Basically all of A14 minus reading in the csv_file\n",
    "class Customer:\n",
    "    def __init__(self, ID, firstName, lastName, company, address, city, state, zipcode):\n",
    "        self.ID = ID\n",
    "        self.firstName = firstName\n",
    "        self.lastName = lastName\n",
    "        self.company = company # If cell is empty in excel, I think csv_reader will give you '' (empty string)\n",
    "        self.address = address\n",
    "        self.city = city\n",
    "        self.state = state\n",
    "        self.zipcode = zipcode\n",
    "    def get_address(self):\n",
    "        print(self.firstName, self.lastName)\n",
    "        if self.company != '':\n",
    "            print(self.company)\n",
    "        print(self.address)\n",
    "        print(self.city + ',', self.state, self.zipcode)\n",
    "    \n",
    "ryan1 = Customer(1, 'Ryan', 'McCormick', 'Citi', 'Street', 'Binghamton', 'NY', '13905')\n",
    "\n",
    "line = ['13', 'Ryan', 'McCormick', 'Citi', '4400 Vestal Parkway E', 'Binghamton', 'NY', '13902']\n",
    "ryan2 = Customer(line[0], line[1], line[2], line[3], line[4], line[5], line[6], line[7])\n",
    "ryan3 = Customer(line[0], line[1], line[2], '', line[4], line[5], line[6], line[7])\n",
    "\n",
    "ryan2.get_address()\n",
    "print()\n",
    "ryan3.get_address()\n",
    "\n",
    "\n",
    "#customers = []\n",
    "#for line in csvfile:\n",
    "    #customers.append(Customer(line[0], line[1], ...))"
   ]
  },
  {
   "cell_type": "code",
   "execution_count": null,
   "metadata": {},
   "outputs": [],
   "source": []
  }
 ],
 "metadata": {
  "kernelspec": {
   "display_name": "Python 3",
   "language": "python",
   "name": "python3"
  },
  "language_info": {
   "codemirror_mode": {
    "name": "ipython",
    "version": 3
   },
   "file_extension": ".py",
   "mimetype": "text/x-python",
   "name": "python",
   "nbconvert_exporter": "python",
   "pygments_lexer": "ipython3",
   "version": "3.6.4"
  }
 },
 "nbformat": 4,
 "nbformat_minor": 2
}
