{
 "cells": [
  {
   "cell_type": "raw",
   "metadata": {},
   "source": []
  },
  {
   "cell_type": "code",
   "execution_count": 7,
   "metadata": {},
   "outputs": [
    {
     "name": "stdout",
     "output_type": "stream",
     "text": [
      "15.59\n"
     ]
    }
   ],
   "source": []
  },
  {
   "cell_type": "code",
   "execution_count": null,
   "metadata": {},
   "outputs": [],
   "source": []
  },
  {
   "cell_type": "code",
   "execution_count": 16,
   "metadata": {},
   "outputs": [
    {
     "name": "stdout",
     "output_type": "stream",
     "text": [
      "16\n"
     ]
    }
   ],
   "source": [
    "# Write a functeion that takes in a list of sides of a shape, and returns the perimeter\n",
    "\n",
    "\n",
    "#for every item in the sides list, add them together\n",
    "def calc_perimeter(side_list):\n",
    "    # for every side in list of sides, i = side\n",
    "    total = 0\n",
    "    for side in side_list:\n",
    "        total += side\n",
    "    return total\n",
    "      \n",
    "    \n",
    "def main():\n",
    "    sides=[3,5,8]\n",
    "    perimeter = calc_perimeter(sides)\n",
    "    print(perimeter)\n",
    "    \n",
    "main()\n",
    "    \n",
    "    \n",
    "# Print out the perimeter in main()"
   ]
  },
  {
   "cell_type": "code",
   "execution_count": null,
   "metadata": {},
   "outputs": [],
   "source": []
  },
  {
   "cell_type": "code",
   "execution_count": null,
   "metadata": {},
   "outputs": [],
   "source": []
  },
  {
   "cell_type": "code",
   "execution_count": null,
   "metadata": {},
   "outputs": [],
   "source": []
  },
  {
   "cell_type": "code",
   "execution_count": null,
   "metadata": {},
   "outputs": [],
   "source": []
  },
  {
   "cell_type": "code",
   "execution_count": null,
   "metadata": {},
   "outputs": [],
   "source": []
  },
  {
   "cell_type": "code",
   "execution_count": null,
   "metadata": {},
   "outputs": [],
   "source": []
  },
  {
   "cell_type": "code",
   "execution_count": null,
   "metadata": {},
   "outputs": [],
   "source": []
  },
  {
   "cell_type": "code",
   "execution_count": null,
   "metadata": {},
   "outputs": [],
   "source": []
  },
  {
   "cell_type": "code",
   "execution_count": null,
   "metadata": {},
   "outputs": [],
   "source": []
  },
  {
   "cell_type": "code",
   "execution_count": null,
   "metadata": {},
   "outputs": [],
   "source": []
  },
  {
   "cell_type": "code",
   "execution_count": null,
   "metadata": {},
   "outputs": [],
   "source": []
  },
  {
   "cell_type": "code",
   "execution_count": null,
   "metadata": {},
   "outputs": [],
   "source": []
  },
  {
   "cell_type": "code",
   "execution_count": 20,
   "metadata": {},
   "outputs": [
    {
     "name": "stdout",
     "output_type": "stream",
     "text": [
      "24\n"
     ]
    }
   ],
   "source": [
    "# Create a function that takes in base and height of a triangle, and returns the area\n",
    "\n",
    "# Call the area function from your main(), store the return variable, and print it\n",
    "\n",
    "\n",
    "\n",
    "def calc_area(base, height):\n",
    "    tri_area = base * height//2\n",
    "    return tri_area\n",
    "    \n",
    "def main():    \n",
    "    base = 12\n",
    "    height = 4\n",
    "    tri_area = calc_area(base, height)\n",
    "    print (tri_area)\n",
    "\n",
    "main()"
   ]
  },
  {
   "cell_type": "code",
   "execution_count": null,
   "metadata": {},
   "outputs": [],
   "source": [
    "def my_function(xyz):\n",
    "    # xyz = value = 5\n",
    "    return xyz # return 5\n",
    "\n",
    "def main():\n",
    "    value = 5\n",
    "    retval = my_function(value) # retval = 5\n",
    "    print(retval) # print(5)"
   ]
  },
  {
   "cell_type": "code",
   "execution_count": 21,
   "metadata": {},
   "outputs": [
    {
     "name": "stdout",
     "output_type": "stream",
     "text": [
      "7 squared is:  49\n",
      "5 squared is:  25\n",
      "3 squared is:  9\n"
     ]
    }
   ],
   "source": [
    "def square(number):\n",
    "    squared_number = number*number\n",
    "    return squared_number\n",
    "\n",
    "def main():\n",
    "    num1 = square(7)\n",
    "    num2 = square(5)\n",
    "    \n",
    "    value = 3\n",
    "    num3 = square(value)\n",
    "    \n",
    "    print(\"7 squared is: \", num1)\n",
    "    print(\"5 squared is: \", num2)\n",
    "    print(\"3 squared is: \", num3)\n",
    "    \n",
    "main()"
   ]
  },
  {
   "cell_type": "code",
   "execution_count": 22,
   "metadata": {},
   "outputs": [
    {
     "name": "stdout",
     "output_type": "stream",
     "text": [
      "7\n"
     ]
    }
   ],
   "source": [
    "# Write a function called \"seven()\" that takes no arguments, and just returns 7\n",
    "\n",
    "def seven():\n",
    "    return 7\n",
    "\n",
    "def main():\n",
    "    answer = seven()\n",
    "    print(answer)\n",
    "    \n",
    "main()\n",
    "# Call the seven function from main and print its return value\n",
    "\n"
   ]
  },
  {
   "cell_type": "code",
   "execution_count": 25,
   "metadata": {},
   "outputs": [
    {
     "name": "stdout",
     "output_type": "stream",
     "text": [
      "13\n"
     ]
    }
   ],
   "source": [
    "# Write a function \"plus_one()\" that takes in a number, and returns that number+1\n",
    "\n",
    "# Call in main and print it\n",
    "\n",
    "\n",
    "def plus_one(number):\n",
    "    return number+1\n",
    "\n",
    "def main():\n",
    "    answer = plus_one(12)\n",
    "    print (answer)\n",
    "    \n",
    "main()"
   ]
  },
  {
   "cell_type": "code",
   "execution_count": 26,
   "metadata": {},
   "outputs": [
    {
     "name": "stdout",
     "output_type": "stream",
     "text": [
      "20\n"
     ]
    }
   ],
   "source": [
    "# Write a function \"times_ten()\" that takes in a number, and returns that number*10\n",
    "\n",
    "# Call in main and print it\n",
    "\n",
    "\n",
    "def times_ten(number):\n",
    "    return number*10\n",
    "    \n",
    "\n",
    "def main():\n",
    "    answer = times_ten(2)\n",
    "    print (answer)\n",
    "main()\n",
    "\n"
   ]
  },
  {
   "cell_type": "code",
   "execution_count": 28,
   "metadata": {},
   "outputs": [
    {
     "name": "stdout",
     "output_type": "stream",
     "text": [
      "18\n"
     ]
    }
   ],
   "source": [
    "# Write a function \"product()\" that takes in 2 numbers and returns the product\n",
    "\n",
    "# Call in main and print it\n",
    "\n",
    "\n",
    "def product(num1,num2):\n",
    "    return num1*num2\n",
    "\n",
    "def main():\n",
    "    answer = product(3,6)\n",
    "    print (answer)\n",
    "main()\n"
   ]
  },
  {
   "cell_type": "code",
   "execution_count": 31,
   "metadata": {},
   "outputs": [
    {
     "name": "stdout",
     "output_type": "stream",
     "text": [
      "120\n"
     ]
    }
   ],
   "source": [
    "# Write a function \"list_product()\" that takes in a list of numbers and returns the product\n",
    "\n",
    "# Call in main and print it\n",
    "\n",
    "\n",
    "\n",
    "def list_product(numbers):\n",
    "    total=1\n",
    "    for num in numbers:\n",
    "        total*=num\n",
    "    return total\n",
    "\n",
    "def main():\n",
    "    numbers=[1,2,4,3,5]\n",
    "    product = list_product(numbers)\n",
    "    print (product)\n",
    "main()\n"
   ]
  },
  {
   "cell_type": "code",
   "execution_count": null,
   "metadata": {},
   "outputs": [],
   "source": []
  }
 ],
 "metadata": {
  "kernelspec": {
   "display_name": "Python 3",
   "language": "python",
   "name": "python3"
  },
  "language_info": {
   "codemirror_mode": {
    "name": "ipython",
    "version": 3
   },
   "file_extension": ".py",
   "mimetype": "text/x-python",
   "name": "python",
   "nbconvert_exporter": "python",
   "pygments_lexer": "ipython3",
   "version": "3.6.4"
  }
 },
 "nbformat": 4,
 "nbformat_minor": 2
}
