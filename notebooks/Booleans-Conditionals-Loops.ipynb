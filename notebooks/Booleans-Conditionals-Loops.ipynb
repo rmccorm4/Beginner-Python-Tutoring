{
 "cells": [
  {
   "cell_type": "code",
   "execution_count": 1,
   "metadata": {},
   "outputs": [],
   "source": [
    "# Outline\n",
    "    # Booleans (Expressions)\n",
    "        # Operations (not, and, or) \n",
    "        # Operations (<, >, <=, >=, ==)\n",
    " \n",
    "    # If statements\n",
    "        # if <boolean condition>:\n",
    "            # code\n",
    "        # elif <boolean condition>:\n",
    "            # code\n",
    "        # else # This will execute if none of the conditions above were true\n",
    "            # code\n",
    "            \n",
    "    # Conditional Statement Exercises\n",
    "        # Have user create account with username and password\n",
    "            # Have user login and check that their information was correct\n",
    "    \n",
    "    # Recap loops\n",
    "        # For Loops\n",
    "            # for i in range():\n",
    "            # for item in iterable:\n",
    "            # Integrate if statements\n",
    "            \n",
    "            # For Loop Exercises\n",
    "                # Sum up the numbers from 1 - 10\n",
    "                # Calculate 5! (factorial)\n",
    "                # Generate 10 random test scores between 0 and 100\n",
    "                    # Calculate the average test score\n",
    "                \n",
    "        # While loops\n",
    "            # while <boolean condition>:\n",
    "                # Do something\n",
    "            # Integrate if statements\n",
    "            \n",
    "            # Conditional Loop Exercises\n",
    "                # Create a list of (even numbers > 1) until your list has 10 elements\n",
    "                # Remove random items from the list above until it only has 1 element left\n",
    "                \n",
    "    # BONUS\n",
    "        # Dictionaries? - ON TEST\n",
    "        # Sets?\n",
    "        # Classes?"
   ]
  },
  {
   "cell_type": "code",
   "execution_count": 48,
   "metadata": {},
   "outputs": [
    {
     "data": {
      "text/plain": [
       "False"
      ]
     },
     "execution_count": 48,
     "metadata": {},
     "output_type": "execute_result"
    }
   ],
   "source": [
    "# Booleans\n",
    "if (False and True): # if <condition>\n",
    "    print('hi')\n",
    "    \n",
    "# Logical Operators\n",
    "# not, and, or\n",
    "\n",
    "# Relational Operators\n",
    "# <, >, <=, >=, ==, !=\n",
    "x = 10\n",
    "x != 10\n",
    "x == 10\n",
    "\n",
    "name = \"ryan\"\n",
    "upperName = \"Ryan\"\n",
    "\n",
    "name == upperName.lower()\n",
    "name != upperName\n",
    "\n",
    "l1 = [1,2,3]\n",
    "l2 = [1,2,3]\n",
    "l3 = [3,4,5]\n",
    "l4 = [1,2,4]\n",
    "\n",
    "l1 == l4"
   ]
  },
  {
   "cell_type": "code",
   "execution_count": 60,
   "metadata": {},
   "outputs": [
    {
     "name": "stdout",
     "output_type": "stream",
     "text": [
      "7 is True\n",
      "hoo\n"
     ]
    }
   ],
   "source": [
    "if 7: # For numbers: 0 == False, Every other number == True\n",
    "    print('7 is True')\n",
    "    \n",
    "if (0):\n",
    "    print('woo')\n",
    "    \n",
    "if (not 0):\n",
    "    print('hoo')"
   ]
  },
  {
   "cell_type": "code",
   "execution_count": 68,
   "metadata": {},
   "outputs": [
    {
     "name": "stdout",
     "output_type": "stream",
     "text": [
      "incorrect login\n"
     ]
    }
   ],
   "source": [
    "# Conditional Statement Exercises\n",
    "        # Have user create account with username and password\n",
    "            # Have user login and check that their information was correct\n",
    "        \n",
    "# Get user's username and password (create account)\n",
    "\n",
    "username = input(\"username: \")\n",
    "password = input(\"password: \")\n",
    "\n",
    "# Get user's input(to login)\n",
    "login_username = input(\"username: \")\n",
    "login_password = input(\"password: \")\n",
    "\n",
    "# Check if input was correct (check login info)\n",
    "\n",
    "if username==login_username and password==login_password:\n",
    "    print (\"You have logged in\")\n",
    "else:\n",
    "    print (\"incorrect login\")\n"
   ]
  },
  {
   "cell_type": "code",
   "execution_count": null,
   "metadata": {},
   "outputs": [],
   "source": [
    "# For loops\n",
    "    # Two ways\n",
    "        # 1. for num in range(0,9) # working with numbers\n",
    "        # list1 = [1, 2, 3]\n",
    "        # working with an \"iterable\" (list, string, or dictionary usually)\n",
    "        # 2. for item in list1\n",
    "        "
   ]
  },
  {
   "cell_type": "code",
   "execution_count": 78,
   "metadata": {},
   "outputs": [
    {
     "name": "stdout",
     "output_type": "stream",
     "text": [
      "[5, 6, 7]\n"
     ]
    }
   ],
   "source": [
    "list1 = [1, 2, 3]\n",
    "list2 = [4, 5, 6] \n",
    "list3 = []\n",
    "# Add 1 to everything in list2\n",
    "for item in list2:\n",
    "    list3.append(item+1) # Says 4=5, then 5 = 6, then 6 = 7\n",
    "    # Want list[0] = 5, list[1] = 6, list[7] = 7\n",
    "    # list[0] = list[0]+1, list[1] = list[1] + 1, list[2] = list[2] + 1\n",
    "# should be [5, 6, 7]\n",
    "print(list3)"
   ]
  },
  {
   "cell_type": "code",
   "execution_count": null,
   "metadata": {},
   "outputs": [],
   "source": [
    "# Datetime\n",
    "    # datetime\n",
    "    # date\n",
    "    # time\n",
    "    \n",
    "countries = {\"USA\": \"America\"}\n",
    "# dict.get(key) returns value of that key (if it exists), otherwise returns None\n",
    "\n",
    "# If this key doesn't exist, print\n",
    "if countries.get(\"USSR\") == \"None\":\n",
    "    print('Key does not exist')"
   ]
  },
  {
   "cell_type": "code",
   "execution_count": 82,
   "metadata": {},
   "outputs": [
    {
     "name": "stdout",
     "output_type": "stream",
     "text": [
      "55\n"
     ]
    }
   ],
   "source": [
    " #For Loop Exercises\n",
    "        #1. Sum up the numbers from 1 - 10\n",
    "        #2. Calculate 5! (factorial)\n",
    "        #3. Generate 10 random test scores between 0 and 100\n",
    "            # Calculate the average test score\n",
    "                    \n",
    "#1. Sum up the numbers from 1 - 10\n",
    "total=0\n",
    "for num in range(1,11):\n",
    "    total+=num\n",
    "print(total)\n"
   ]
  },
  {
   "cell_type": "code",
   "execution_count": 84,
   "metadata": {},
   "outputs": [
    {
     "name": "stdout",
     "output_type": "stream",
     "text": [
      "120\n",
      "120\n"
     ]
    }
   ],
   "source": [
    "#2. Calculate 5! (factorial)\n",
    "factorial=1\n",
    "for num in range(5,0,-1):\n",
    "    factorial*=num\n",
    "fact = 1\n",
    "for num in range(1, 6):\n",
    "    fact *= num\n",
    "print(factorial)\n",
    "print(fact)"
   ]
  },
  {
   "cell_type": "code",
   "execution_count": 88,
   "metadata": {},
   "outputs": [
    {
     "name": "stdout",
     "output_type": "stream",
     "text": [
      "[6, 22, 5, 41, 72, 100, 25, 56, 90, 1]\n",
      "10\n"
     ]
    }
   ],
   "source": [
    "# Generate 10 random test scores between 0 and 100\n",
    "    # Calculate the average test score\n",
    "    \n",
    "import random\n",
    "# random.randint(0, 100)\n",
    "\n",
    "# If you want a loop to execute N times\n",
    "    # i = 0, 1, 2, ..., N-1\n",
    "    # for i in range(N): # for i in range(0, N): # IDENTICAL\n",
    "        # do anything here (doesn't have to use 'i')\n",
    "    \n",
    "# If i wanted to print \"hello\" 10 times\n",
    "for i in range(10):\n",
    "    print(\"hello\")\n",
    "        \n",
    "        \n",
    "# for i in range(6):\n",
    "    # i = 0\n",
    "    # i = 1\n",
    "    # i = 2\n",
    "    # ...\n",
    "    # i = 6\n",
    "    # now think about what he asked you to do\n",
    "    \n",
    "scores=[]\n",
    "for i in range(10):\n",
    "    score=random.randint(0,100)\n",
    "    scores.append(score)\n",
    "\n",
    "print(scores)\n",
    "print(len(scores))"
   ]
  },
  {
   "cell_type": "code",
   "execution_count": 92,
   "metadata": {},
   "outputs": [
    {
     "name": "stdout",
     "output_type": "stream",
     "text": [
      "7\n",
      "8\n",
      "9\n",
      "10\n",
      "11\n",
      "12\n",
      "13\n",
      "14\n",
      "15\n",
      "[2, 3, 4]\n"
     ]
    }
   ],
   "source": [
    "# Example of when you want 'i'\n",
    "    # Doing something with numbers in given range\n",
    "        # Print the numbers from 7 - 15\n",
    "for i in range(7, 16):\n",
    "    print(i)\n",
    "\n",
    "    # Accessing indexes of a list or string\n",
    "        # Add 1 to every value in list called 'xyz'\n",
    "xyz = [1, 2, 3]\n",
    "for i in range(len(xyz)):\n",
    "    xyz[i] += 1 # xyz[i] = xyz[i] + 1\n",
    "print(xyz)"
   ]
  },
  {
   "cell_type": "code",
   "execution_count": 97,
   "metadata": {},
   "outputs": [
    {
     "name": "stdout",
     "output_type": "stream",
     "text": [
      "hello\n",
      "hello\n",
      "hello\n",
      "hello\n",
      "hello\n",
      "85\n",
      "90\n",
      "76\n",
      "59\n",
      "100\n",
      "73\n",
      "79\n",
      "[63, 66, 85, 55, 74]\n",
      "Average with iterable = 68.6\n",
      "Average with range() = 68.6\n"
     ]
    }
   ],
   "source": [
    "# Example of when you don't care about 'i'\n",
    "    # Do something N times\n",
    "        # Print \"hello\" 5 times\n",
    "for i in range(5):\n",
    "    print(\"hello\")\n",
    "        \n",
    "        # Generate 7 random numbers between 50 and 100\n",
    "import random\n",
    "\n",
    "for i in range(7):\n",
    "    print(random.randint(50, 100))\n",
    "    \n",
    "        # Generate 5 random numbers between 50 and 100 and print the average (mean)\n",
    "random_numbers = []\n",
    "for i in range(5):\n",
    "    random_numbers.append(random.randint(50, 100))\n",
    "print(random_numbers)\n",
    "\n",
    "total = 0\n",
    "# for item in iterable\n",
    "for number in random_numbers:\n",
    "    total += number\n",
    "average = total / len(random_numbers)\n",
    "print(\"Average with iterable =\", average)\n",
    "\n",
    "total = 0\n",
    "# for item in range\n",
    "for i in range(len(random_numbers)):\n",
    "    total += random_numbers[i]\n",
    "average = total / len(random_numbers)\n",
    "print(\"Average with range() =\", average)"
   ]
  },
  {
   "cell_type": "code",
   "execution_count": 105,
   "metadata": {},
   "outputs": [
    {
     "name": "stdout",
     "output_type": "stream",
     "text": [
      "9\n",
      "10\n",
      "11\n",
      "12\n",
      "13\n",
      "14\n",
      "15\n",
      "16\n",
      "17\n",
      "18\n",
      "Python\n",
      "Python\n",
      "Python\n",
      "Python\n",
      "Python\n",
      "Python\n",
      "Python\n",
      "1\n",
      "2\n",
      "3\n",
      "1\n",
      "2\n",
      "3\n"
     ]
    }
   ],
   "source": [
    "# Print numbers from 9 - 18\n",
    "for i in range(9,19):\n",
    "    print(i)\n",
    "\n",
    "# Print \"Python\" 7 times\n",
    "for i in range(7):\n",
    "    print(\"Python\")\n",
    "\n",
    "# Print every number in list called \"xyz\" with range()\n",
    "xyz = [4, 5, 6]\n",
    "for index in range(len(xyz)):\n",
    "    print(xyz[index])\n",
    "    \n",
    "# Print every number in list called \"xyz\" with iterable\n",
    "xyz = [4, 5, 6]\n",
    "for num in xyz:\n",
    "    print(num)\n"
   ]
  },
  {
   "cell_type": "code",
   "execution_count": 106,
   "metadata": {},
   "outputs": [
    {
     "data": {
      "text/plain": [
       "'\\nwhile (variable == ?): \\n    print(7)\\n    if something:\\n        variable = different\\n\\nwhile True:\\n    psodkfsd\\n    psdofkpdsof\\n\\n    if something:\\n        break\\n        or  \\n        exit()\\n'"
      ]
     },
     "execution_count": 106,
     "metadata": {},
     "output_type": "execute_result"
    }
   ],
   "source": [
    "# While loops\n",
    "            # while <boolean condition>:\n",
    "                # Do something\n",
    "            # Integrate if statements\n",
    "            \n",
    "            # Conditional Loop Exercises\n",
    "                # Create a list of (even numbers > 1) until your list has 10 elements\n",
    "                # Remove random items from the list above until it only has 1 element left\n",
    "\n",
    "# While loop looks like this:\n",
    "# while <condition>:\n",
    "#    do something\n",
    "\n",
    "# Conceptually while loop looks like this:\n",
    "# for i in range(infinity):\n",
    "#     if <condition> == False:\n",
    "#          break\n",
    "\n",
    "# Two general outlines of while loops (ways to get out of them)\n",
    "\"\"\"\n",
    "while (variable == ?): \n",
    "    print(7)\n",
    "    if something:\n",
    "        variable = different\n",
    "\n",
    "while True:\n",
    "    psodkfsd\n",
    "    psdofkpdsof\n",
    "\n",
    "    if something:\n",
    "        break\n",
    "        or  \n",
    "        exit()\n",
    "\"\"\"\n",
    "\n"
   ]
  },
  {
   "cell_type": "code",
   "execution_count": 109,
   "metadata": {},
   "outputs": [
    {
     "name": "stdout",
     "output_type": "stream",
     "text": [
      "[38, 2, 96, 37, 23, 95, 50, 38, 26, 55]\n",
      "[2]\n"
     ]
    }
   ],
   "source": [
    "# Conditional Loop Exercises\n",
    "                # Create a list of (even numbers > 1) until your list has 10 elements\n",
    "                # Remove random items from the list above until it only has 1 element left\n",
    "        \n",
    "#1. Create a list of random numbers until your list has 10 elements\n",
    "import random #random.randint(min, max)\n",
    "numbers = []\n",
    "while len(numbers)<10:\n",
    "    num=random.randint(1,100)\n",
    "    numbers.append(num)\n",
    "print(numbers)\n",
    "    \n",
    "#2. Remove random items from the list above until it only has 1 element left\n",
    "\n",
    "while len(numbers)>1:\n",
    "    index=random.randint(0,len(numbers)-1)\n",
    "    numbers.pop(index)\n",
    "print (numbers)\n"
   ]
  },
  {
   "cell_type": "code",
   "execution_count": null,
   "metadata": {},
   "outputs": [],
   "source": []
  }
 ],
 "metadata": {
  "kernelspec": {
   "display_name": "Python 3",
   "language": "python",
   "name": "python3"
  },
  "language_info": {
   "codemirror_mode": {
    "name": "ipython",
    "version": 3
   },
   "file_extension": ".py",
   "mimetype": "text/x-python",
   "name": "python",
   "nbconvert_exporter": "python",
   "pygments_lexer": "ipython3",
   "version": "3.6.4"
  }
 },
 "nbformat": 4,
 "nbformat_minor": 2
}
