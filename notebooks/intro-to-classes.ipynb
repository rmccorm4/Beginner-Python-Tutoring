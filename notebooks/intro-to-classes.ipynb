{
 "cells": [
  {
   "cell_type": "code",
   "execution_count": 1,
   "metadata": {},
   "outputs": [
    {
     "data": {
      "text/plain": [
       "'Ryan'"
      ]
     },
     "execution_count": 1,
     "metadata": {},
     "output_type": "execute_result"
    }
   ],
   "source": [
    "name = 'Ryan McCormick'\n",
    "\n",
    "# Slice -> iterable[start : end + 1]\n",
    "firstname = name[0 : 4]\n",
    "firstname"
   ]
  },
  {
   "cell_type": "code",
   "execution_count": 8,
   "metadata": {},
   "outputs": [
    {
     "data": {
      "text/plain": [
       "['R', 'y', 'a', 'n']"
      ]
     },
     "execution_count": 8,
     "metadata": {},
     "output_type": "execute_result"
    }
   ],
   "source": [
    "both = name.split()\n",
    "both[0]\n",
    "\n",
    "l = []\n",
    "for i in range(4):\n",
    "    l.append(name[i])\n",
    "l\n",
    "\n"
   ]
  },
  {
   "cell_type": "code",
   "execution_count": 14,
   "metadata": {},
   "outputs": [
    {
     "name": "stdout",
     "output_type": "stream",
     "text": [
      "[1, 2, 3, 7]\n"
     ]
    }
   ],
   "source": [
    "def other(x, l):\n",
    "    l.append(x)\n",
    "    print(l)\n",
    "    \n",
    "def main():\n",
    "    l = [1, 2, 3]\n",
    "    x = 7\n",
    "    other(x, l)\n",
    "        \n",
    "main()"
   ]
  },
  {
   "cell_type": "code",
   "execution_count": 25,
   "metadata": {},
   "outputs": [
    {
     "name": "stdout",
     "output_type": "stream",
     "text": [
      "450\n",
      "on\n",
      "off\n",
      "455\n",
      "450\n",
      "455\n"
     ]
    },
    {
     "data": {
      "text/plain": [
       "94313347746496"
      ]
     },
     "execution_count": 25,
     "metadata": {},
     "output_type": "execute_result"
    }
   ],
   "source": [
    "class Oven:\n",
    "    def __init__(self, temp, state):\n",
    "        self.temperature = temp\n",
    "        self.status = state\n",
    "    def turn_off(self):\n",
    "        self.status = 'off'\n",
    "    def inc_temp(self):\n",
    "        self.temperature += 5\n",
    "    def dec_temp(self):\n",
    "        self.temperature -= 5\n",
    "\n",
    "        \n",
    "oven1 = Oven(450, 'on') # Pizza rolls oven\n",
    "oven2 = Oven(375, 'on') # Brownies oven\n",
    "\n",
    "print(oven1.temperature)\n",
    "print(oven1.status)\n",
    "oven1.turn_off()\n",
    "print(oven1.status)\n",
    "oven1.inc_temp()\n",
    "print(oven1.temperature)\n",
    "oven1.dec_temp()\n",
    "print(oven1.temperature)\n",
    "\n",
    "change_temp(oven1)\n",
    "print(oven1.temperature)"
   ]
  },
  {
   "cell_type": "code",
   "execution_count": null,
   "metadata": {},
   "outputs": [],
   "source": []
  },
  {
   "cell_type": "code",
   "execution_count": 34,
   "metadata": {},
   "outputs": [
    {
     "name": "stdout",
     "output_type": "stream",
     "text": [
      "Yankees NY\n"
     ]
    }
   ],
   "source": [
    "class SportsTeam:\n",
    "    def __init__(self, teamName, city, teamColor, sport, country):\n",
    "        self.teamName = teamName\n",
    "        self.city = city\n",
    "        self.teamColor = teamColor\n",
    "        self.sport = sport\n",
    "        self.country = country\n",
    "        \n",
    "    def get_description(self):\n",
    "        print(self.teamName, self.city)\n",
    "        \n",
    "yankees = SportsTeam('Yankees', 'NY', 'Blue' , 'Baseball' , 'US')\n",
    "yankees.get_description()\n",
    "\n"
   ]
  },
  {
   "cell_type": "code",
   "execution_count": 36,
   "metadata": {},
   "outputs": [
    {
     "name": "stdout",
     "output_type": "stream",
     "text": [
      "Yankees NY\n"
     ]
    }
   ],
   "source": [
    "class AmericanSportsTeam:\n",
    "    def __init__(self, teamName, city, teamColor, sport):\n",
    "        self.teamName = teamName\n",
    "        self.city = city\n",
    "        self.teamColor = teamColor\n",
    "        self.sport = sport\n",
    "        self.country = 'USA'\n",
    "        \n",
    "    def get_description(self):\n",
    "        print(self.teamName, self.city)\n",
    "        \n",
    "yankees = AmericanSportsTeam('Yankees', 'NY', 'Blue' , 'Baseball')\n",
    "yankees.get_description()"
   ]
  },
  {
   "cell_type": "code",
   "execution_count": 40,
   "metadata": {},
   "outputs": [
    {
     "name": "stdout",
     "output_type": "stream",
     "text": [
      "  USA\n",
      "Knicks  USA\n",
      "Knicks Tokyo USA\n"
     ]
    }
   ],
   "source": [
    "class AnyAmericanTeam:\n",
    "    def __init__(self):\n",
    "        self.teamName = ''\n",
    "        self.city = ''\n",
    "        self.teamColor = ''\n",
    "        self.sport = ''\n",
    "        self.country = 'USA'\n",
    "        \n",
    "    def get_description(self):\n",
    "        print(self.teamName, self.city, self.country)\n",
    "        \n",
    "    def set_teamName(self, tn):\n",
    "        self.teamName = tn\n",
    "        \n",
    "    def set_city(self, city):\n",
    "        self.city = city\n",
    "        \n",
    "team = AnyAmericanTeam()\n",
    "team.get_description() # Prints USA\n",
    "team.set_teamName('Knicks')\n",
    "team.get_description() # Prints Knicks  USA\n",
    "team.set_city('Tokyo')\n",
    "team.get_description() # Prints Knicks  Tokyo  USA\n",
    "\n"
   ]
  },
  {
   "cell_type": "code",
   "execution_count": null,
   "metadata": {},
   "outputs": [],
   "source": []
  }
 ],
 "metadata": {
  "kernelspec": {
   "display_name": "Python 3",
   "language": "python",
   "name": "python3"
  },
  "language_info": {
   "codemirror_mode": {
    "name": "ipython",
    "version": 3
   },
   "file_extension": ".py",
   "mimetype": "text/x-python",
   "name": "python",
   "nbconvert_exporter": "python",
   "pygments_lexer": "ipython3",
   "version": "3.6.4"
  }
 },
 "nbformat": 4,
 "nbformat_minor": 2
}
